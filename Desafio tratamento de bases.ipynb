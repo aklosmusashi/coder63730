{
 "cells": [
  {
   "cell_type": "code",
   "execution_count": 1,
   "metadata": {},
   "outputs": [
    {
     "ename": "AttributeError",
     "evalue": "'Series' object has no attribute 'stack'",
     "output_type": "error",
     "traceback": [
      "\u001b[1;31m---------------------------------------------------------------------------\u001b[0m",
      "\u001b[1;31mAttributeError\u001b[0m                            Traceback (most recent call last)",
      "\u001b[1;32m~\\AppData\\Local\\Temp\\ipykernel_13468\\754766911.py\u001b[0m in \u001b[0;36m?\u001b[1;34m()\u001b[0m\n\u001b[0;32m     49\u001b[0m     \u001b[0mdf_type_filtrado\u001b[0m \u001b[1;33m=\u001b[0m \u001b[0mdf_type\u001b[0m\u001b[1;33m[\u001b[0m\u001b[0mdf_type\u001b[0m\u001b[1;33m[\u001b[0m\u001b[1;34m'Nome_Type'\u001b[0m\u001b[1;33m]\u001b[0m\u001b[1;33m.\u001b[0m\u001b[0mstr\u001b[0m\u001b[1;33m.\u001b[0m\u001b[0mcontains\u001b[0m\u001b[1;33m(\u001b[0m\u001b[1;34m'a'\u001b[0m\u001b[1;33m)\u001b[0m\u001b[1;33m]\u001b[0m\u001b[1;33m\u001b[0m\u001b[1;33m\u001b[0m\u001b[0m\n\u001b[0;32m     50\u001b[0m \u001b[1;33m\u001b[0m\u001b[0m\n\u001b[0;32m     51\u001b[0m     \u001b[1;31m# Unstack e stack (exemplo)\u001b[0m\u001b[1;33m\u001b[0m\u001b[1;33m\u001b[0m\u001b[0m\n\u001b[0;32m     52\u001b[0m     \u001b[0mdf_pokemon_unstacked\u001b[0m \u001b[1;33m=\u001b[0m \u001b[0mdf_pokemon_filtrado\u001b[0m\u001b[1;33m.\u001b[0m\u001b[0munstack\u001b[0m\u001b[1;33m(\u001b[0m\u001b[1;33m)\u001b[0m\u001b[1;33m\u001b[0m\u001b[1;33m\u001b[0m\u001b[0m\n\u001b[1;32m---> 53\u001b[1;33m     \u001b[0mdf_pokemon_stacked\u001b[0m \u001b[1;33m=\u001b[0m \u001b[0mdf_pokemon_unstacked\u001b[0m\u001b[1;33m.\u001b[0m\u001b[0mstack\u001b[0m\u001b[1;33m(\u001b[0m\u001b[1;33m)\u001b[0m\u001b[1;33m\u001b[0m\u001b[1;33m\u001b[0m\u001b[0m\n\u001b[0m\u001b[0;32m     54\u001b[0m \u001b[1;33m\u001b[0m\u001b[0m\n\u001b[0;32m     55\u001b[0m     \u001b[1;31m# Tratamento do tipo das variáveis\u001b[0m\u001b[1;33m\u001b[0m\u001b[1;33m\u001b[0m\u001b[0m\n\u001b[0;32m     56\u001b[0m     \u001b[0mdf_pokemon\u001b[0m\u001b[1;33m[\u001b[0m\u001b[1;34m'Nome_Pokemon'\u001b[0m\u001b[1;33m]\u001b[0m \u001b[1;33m=\u001b[0m \u001b[0mdf_pokemon\u001b[0m\u001b[1;33m[\u001b[0m\u001b[1;34m'Nome_Pokemon'\u001b[0m\u001b[1;33m]\u001b[0m\u001b[1;33m.\u001b[0m\u001b[0mastype\u001b[0m\u001b[1;33m(\u001b[0m\u001b[0mstr\u001b[0m\u001b[1;33m)\u001b[0m\u001b[1;33m\u001b[0m\u001b[1;33m\u001b[0m\u001b[0m\n",
      "\u001b[1;32mc:\\Users\\Andre Sousa\\AppData\\Local\\Programs\\Python\\Python313\\Lib\\site-packages\\pandas\\core\\generic.py\u001b[0m in \u001b[0;36m?\u001b[1;34m(self, name)\u001b[0m\n\u001b[0;32m   6295\u001b[0m             \u001b[1;32mand\u001b[0m \u001b[0mname\u001b[0m \u001b[1;32mnot\u001b[0m \u001b[1;32min\u001b[0m \u001b[0mself\u001b[0m\u001b[1;33m.\u001b[0m\u001b[0m_accessors\u001b[0m\u001b[1;33m\u001b[0m\u001b[1;33m\u001b[0m\u001b[0m\n\u001b[0;32m   6296\u001b[0m             \u001b[1;32mand\u001b[0m \u001b[0mself\u001b[0m\u001b[1;33m.\u001b[0m\u001b[0m_info_axis\u001b[0m\u001b[1;33m.\u001b[0m\u001b[0m_can_hold_identifiers_and_holds_name\u001b[0m\u001b[1;33m(\u001b[0m\u001b[0mname\u001b[0m\u001b[1;33m)\u001b[0m\u001b[1;33m\u001b[0m\u001b[1;33m\u001b[0m\u001b[0m\n\u001b[0;32m   6297\u001b[0m         \u001b[1;33m)\u001b[0m\u001b[1;33m:\u001b[0m\u001b[1;33m\u001b[0m\u001b[1;33m\u001b[0m\u001b[0m\n\u001b[0;32m   6298\u001b[0m             \u001b[1;32mreturn\u001b[0m \u001b[0mself\u001b[0m\u001b[1;33m[\u001b[0m\u001b[0mname\u001b[0m\u001b[1;33m]\u001b[0m\u001b[1;33m\u001b[0m\u001b[1;33m\u001b[0m\u001b[0m\n\u001b[1;32m-> 6299\u001b[1;33m         \u001b[1;32mreturn\u001b[0m \u001b[0mobject\u001b[0m\u001b[1;33m.\u001b[0m\u001b[0m__getattribute__\u001b[0m\u001b[1;33m(\u001b[0m\u001b[0mself\u001b[0m\u001b[1;33m,\u001b[0m \u001b[0mname\u001b[0m\u001b[1;33m)\u001b[0m\u001b[1;33m\u001b[0m\u001b[1;33m\u001b[0m\u001b[0m\n\u001b[0m",
      "\u001b[1;31mAttributeError\u001b[0m: 'Series' object has no attribute 'stack'"
     ]
    }
   ],
   "source": [
    "import requests\n",
    "import pandas as pd\n",
    "\n",
    "def alerta(nome, url):\n",
    "    print(f\"Erro: {nome} - {url}\")\n",
    "\n",
    "# Função para obter dados da API\n",
    "def obter_dados(url):\n",
    "    try:\n",
    "        response = requests.get(url)\n",
    "        response.raise_for_status()\n",
    "        return response.json()\n",
    "    except requests.exceptions.RequestException as e:\n",
    "        alerta(\"Erro ao acessar a API\", url)\n",
    "        return None\n",
    "\n",
    "# URLs da API\n",
    "url_pokemon = \"https://pokeapi.co/api/v2/pokemon\"\n",
    "url_ability = \"https://pokeapi.co/api/v2/ability\"\n",
    "url_type = \"https://pokeapi.co/api/v2/type\"\n",
    "\n",
    "# Obter dados\n",
    "dados_pokemon = obter_dados(url_pokemon)\n",
    "dados_ability = obter_dados(url_ability)\n",
    "dados_type = obter_dados(url_type)\n",
    "\n",
    "# Verificar se os dados foram obtidos com sucesso\n",
    "if not dados_pokemon or not dados_ability or not dados_type:\n",
    "    alerta(\"Erro ao obter dados\", \"Verifique as URLs e tente novamente\")\n",
    "else:\n",
    "    # Criar DataFrames\n",
    "    df_pokemon = pd.json_normalize(dados_pokemon['results'])\n",
    "    df_ability = pd.json_normalize(dados_ability['results'])\n",
    "    df_type = pd.json_normalize(dados_type['results'])\n",
    "\n",
    "    # Ajustar nomes das colunas\n",
    "    df_pokemon.columns = ['Nome_Pokemon', 'URL_Pokemon']\n",
    "    df_ability.columns = ['Nome_Ability', 'URL_Ability']\n",
    "    df_type.columns = ['Nome_Type', 'URL_Type']\n",
    "\n",
    "    # Ajustar nomes das linhas (índices)\n",
    "    df_pokemon.index.name = 'ID_Pokemon'\n",
    "    df_ability.index.name = 'ID_Ability'\n",
    "    df_type.index.name = 'ID_Type'\n",
    "\n",
    "    # Filtros de linhas e colunas (exemplo)\n",
    "    df_pokemon_filtrado = df_pokemon[df_pokemon['Nome_Pokemon'].str.contains('a')]\n",
    "    df_ability_filtrado = df_ability[df_ability['Nome_Ability'].str.contains('a')]\n",
    "    df_type_filtrado = df_type[df_type['Nome_Type'].str.contains('a')]\n",
    "\n",
    "    # Unstack e stack (exemplo)\n",
    "    df_pokemon_unstacked = df_pokemon_filtrado.unstack()\n",
    "    df_pokemon_stacked = df_pokemon_unstacked.stack()\n",
    "\n",
    "    # Tratamento do tipo das variáveis\n",
    "    df_pokemon['Nome_Pokemon'] = df_pokemon['Nome_Pokemon'].astype(str)\n",
    "    df_ability['Nome_Ability'] = df_ability['Nome_Ability'].astype(str)\n",
    "    df_type['Nome_Type'] = df_type['Nome_Type'].astype(str)\n",
    "\n",
    "    # Ajuste de missing (exemplo)\n",
    "    df_pokemon.fillna('Desconhecido', inplace=True)\n",
    "    df_ability.fillna('Desconhecido', inplace=True)\n",
    "    df_type.fillna('Desconhecido', inplace=True)\n",
    "\n",
    "    # Tratamento de colunas string (exemplo)\n",
    "    df_pokemon['Nome_Pokemon'] = df_pokemon['Nome_Pokemon'].str.upper()\n",
    "    df_ability['Nome_Ability'] = df_ability['Nome_Ability'].str.upper()\n",
    "    df_type['Nome_Type'] = df_type['Nome_Type'].str.upper()\n",
    "\n",
    "    # Exibir DataFrames ajustados\n",
    "    print(df_pokemon.head())\n",
    "    print(df_ability.head())\n",
    "    print(df_type.head())\n"
   ]
  }
 ],
 "metadata": {
  "kernelspec": {
   "display_name": "Python 3",
   "language": "python",
   "name": "python3"
  },
  "language_info": {
   "codemirror_mode": {
    "name": "ipython",
    "version": 3
   },
   "file_extension": ".py",
   "mimetype": "text/x-python",
   "name": "python",
   "nbconvert_exporter": "python",
   "pygments_lexer": "ipython3",
   "version": "3.13.0"
  }
 },
 "nbformat": 4,
 "nbformat_minor": 2
}
