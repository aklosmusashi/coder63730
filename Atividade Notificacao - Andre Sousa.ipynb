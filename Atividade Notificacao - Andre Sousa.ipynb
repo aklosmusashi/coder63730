{
 "cells": [
  {
   "cell_type": "code",
   "execution_count": 24,
   "metadata": {},
   "outputs": [],
   "source": [
    "from plyer import notification\n",
    "from datetime import datetime\n",
    "\n",
    "def alerta(nivel, base, etapa):\n",
    "    # Determinando o título com base no nível\n",
    "    if nivel == 1:\n",
    "        titulo = \"Alerta Baixo\"\n",
    "    elif nivel == 2:\n",
    "        titulo = \"Alerta Médio\"\n",
    "    elif nivel == 3:\n",
    "        titulo = \"Alerta Alto\"\n",
    "    else:\n",
    "        titulo = \"Alerta Desconhecido\"\n",
    "\n",
    "    # Mensagem de aviso.\n",
    "    mensagem = f\"Falha no carregamento da base {base} na conexão com o {etapa}.\\nData: {datetime.now().strftime('%Y-%m-%d %H:%M:%S')}\"\n",
    "    \n",
    "    # Exibindo o alerta\n",
    "    notification.notify(\n",
    "        title=titulo,\n",
    "        message=mensagem,\n",
    "        app_name=\"Meu Aplicativo\",\n",
    "        timeout=10  # O alerta ficará visível por 10 segundos\n",
    "    )\n",
    "\n",
    "# Usando a função\n",
    "alerta(2, \"database_rt2\", \"banco de dados\")"
   ]
  }
 ],
 "metadata": {
  "kernelspec": {
   "display_name": "Python 3",
   "language": "python",
   "name": "python3"
  },
  "language_info": {
   "codemirror_mode": {
    "name": "ipython",
    "version": 3
   },
   "file_extension": ".py",
   "mimetype": "text/x-python",
   "name": "python",
   "nbconvert_exporter": "python",
   "pygments_lexer": "ipython3",
   "version": "3.13.0"
  }
 },
 "nbformat": 4,
 "nbformat_minor": 2
}
